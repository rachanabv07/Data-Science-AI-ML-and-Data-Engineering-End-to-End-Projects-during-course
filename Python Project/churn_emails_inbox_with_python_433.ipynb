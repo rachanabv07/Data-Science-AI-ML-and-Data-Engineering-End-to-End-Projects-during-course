{
 "cells": [
  {
   "cell_type": "markdown",
   "metadata": {},
   "source": [
    "# Python Project - Churn Emails\n",
    "\n",
    "Welcome to this project on Churning the Emails Inbox with Python. In this project, Python used to access the data from files and process it to achieve certain tasks. Exploring the MBox email dataset, and use Python to count lines, headers, subject lines by emails and domains.\n",
    "\n",
    "## Dataset"
   ]
  },
  {
   "cell_type": "code",
   "execution_count": 5,
   "metadata": {},
   "outputs": [],
   "source": [
    "#/cxldata/datasets/project/mbox-short.txt"
   ]
  },
  {
   "cell_type": "markdown",
   "metadata": {},
   "source": [
    "## Count the Number of Lines"
   ]
  },
  {
   "cell_type": "code",
   "execution_count": 6,
   "metadata": {},
   "outputs": [
    {
     "name": "stdout",
     "output_type": "stream",
     "text": [
      "1910\n"
     ]
    }
   ],
   "source": [
    "#Define a function number_of_lines\n",
    "def number_of_lines():\n",
    "#Open the file   \n",
    "    fhand = open('/cxldata/datasets/project/mbox-short.txt')\n",
    "#Read the file into one string by using read method on file handle\n",
    "    inp = fhand.read()\n",
    "    count=0\n",
    "    for c in inp:\n",
    "        if c == \"\\n\":\n",
    "            count+=1\n",
    "    return count\n",
    "        \n",
    "Count = number_of_lines()   \n",
    "print(Count)"
   ]
  },
  {
   "cell_type": "markdown",
   "metadata": {},
   "source": [
    "## Count the Number of Subject Lines"
   ]
  },
  {
   "cell_type": "code",
   "execution_count": 3,
   "metadata": {},
   "outputs": [
    {
     "data": {
      "text/plain": [
       "27"
      ]
     },
     "execution_count": 3,
     "metadata": {},
     "output_type": "execute_result"
    }
   ],
   "source": [
    "def count_number_of_lines():\n",
    "    fhand = open('/cxldata/datasets/project/mbox-short.txt')\n",
    "    \n",
    "    count = 0\n",
    "    for line in fhand:\n",
    "        line = line.rstrip()\n",
    "    \n",
    "        if line.startswith('Subject:'):\n",
    "            count+=1\n",
    "    return count\n",
    "    \n",
    "count_number_of_lines()"
   ]
  },
  {
   "cell_type": "markdown",
   "metadata": {},
   "source": [
    "## Find Average Spam Confidence"
   ]
  },
  {
   "cell_type": "code",
   "execution_count": 7,
   "metadata": {},
   "outputs": [
    {
     "name": "stdout",
     "output_type": "stream",
     "text": [
      "0.7507185185185187\n"
     ]
    }
   ],
   "source": [
    "def average_spam_confidence():\n",
    "    fhand = open('/cxldata/datasets/project/mbox-short.txt')\n",
    "    sum=0\n",
    "    count=0\n",
    "    \n",
    "    for line in fhand:\n",
    "    \n",
    "        if line.startswith('X-DSPAM-Confidence:'):\n",
    "       \n",
    "            split=(line.split(':')[1])\n",
    "            Sf=float(split)\n",
    "            sum=sum+Sf\n",
    "            count=count+1\n",
    "            avg=sum/count\n",
    "    return avg\n",
    "Avg = average_spam_confidence()\n",
    "print(Avg)"
   ]
  },
  {
   "cell_type": "markdown",
   "metadata": {},
   "source": [
    "## Find Which Day of the Week the Email was sent"
   ]
  },
  {
   "cell_type": "code",
   "execution_count": 114,
   "metadata": {},
   "outputs": [
    {
     "name": "stdout",
     "output_type": "stream",
     "text": [
      "{'Sat': 1, 'Fri': 20, 'Thu': 6}\n"
     ]
    }
   ],
   "source": [
    "def find_email_sent_days():\n",
    "    fhand = open('/cxldata/datasets/project/mbox-short.txt')\n",
    "   \n",
    "    d={}\n",
    "   \n",
    "    for line in fhand:\n",
    "        \n",
    "        if line.startswith('From'):\n",
    "            \n",
    "            week=line.split()\n",
    "            \n",
    "            if len(week)>=5:\n",
    "                \n",
    "                week_f=week[2]\n",
    "                \n",
    "                d[week_f]=d.get(week_f,0)+1\n",
    "            \n",
    "    return d\n",
    "            \n",
    "print(find_email_sent_days())"
   ]
  },
  {
   "cell_type": "markdown",
   "metadata": {},
   "source": [
    "## Explore Header of Emails"
   ]
  },
  {
   "cell_type": "code",
   "execution_count": 8,
   "metadata": {},
   "outputs": [
    {
     "name": "stdout",
     "output_type": "stream",
     "text": [
      "{'stephen.marquard@uct.ac.za': 2, 'louis@media.berkeley.edu': 3, 'zqian@umich.edu': 4, 'rjlowe@iupui.edu': 2, 'cwen@iupui.edu': 5, 'gsilver@umich.edu': 3, 'wagnermr@iupui.edu': 1, 'antranig@caret.cam.ac.uk': 1, 'gopal.ramasammycook@gmail.com': 1, 'david.horwitz@uct.ac.za': 4, 'ray@media.berkeley.edu': 1}\n"
     ]
    }
   ],
   "source": [
    "\n",
    "def count_message_from_email():\n",
    "    fhand = open('/cxldata/datasets/project/mbox-short.txt')\n",
    "    d={}\n",
    "    divisor = 2\n",
    "    for line in fhand:\n",
    "\n",
    "        if line.startswith('From'):\n",
    "\n",
    "            week=line.split()\n",
    "            week_f=week[1]\n",
    "        \n",
    "            d[week_f]=d.get(week_f,0)+1\n",
    "    \n",
    "    \n",
    "\n",
    "    for key in d:\n",
    "        d[key] //= divisor\n",
    "    \n",
    "            \n",
    "    return d\n",
    "print(count_message_from_email())"
   ]
  },
  {
   "cell_type": "markdown",
   "metadata": {},
   "source": [
    "## Count Number of Messages From Each Email Address"
   ]
  },
  {
   "cell_type": "code",
   "execution_count": 13,
   "metadata": {},
   "outputs": [
    {
     "name": "stdout",
     "output_type": "stream",
     "text": [
      "{'uct.ac.za': 6, 'media.berkeley.edu': 4, 'umich.edu': 7, 'iupui.edu': 8, 'caret.cam.ac.uk': 1, 'gmail.com': 1}\n"
     ]
    }
   ],
   "source": [
    "def count_message_from_domain():\n",
    "    fhand = open('/cxldata/datasets/project/mbox-short.txt')\n",
    "    d={}\n",
    "    divisor = 2\n",
    "    for line in fhand:\n",
    "\n",
    "        if line.startswith('From'):\n",
    "\n",
    "            week=line.split()\n",
    "            week_f=week[1]\n",
    "            week_m=week_f.split(\"@\")\n",
    "            \n",
    "            week_a=week_m[1]\n",
    "        \n",
    "            d[week_a]=d.get(week_a,0)+1\n",
    "    \n",
    "    \n",
    "\n",
    "    for key in d:\n",
    "        d[key] //= divisor\n",
    "    \n",
    "            \n",
    "    return d\n",
    "print(count_message_from_domain())"
   ]
  },
  {
   "cell_type": "markdown",
   "metadata": {},
   "source": [
    "## Count Number of Messages From Each Domain"
   ]
  },
  {
   "cell_type": "code",
   "execution_count": 9,
   "metadata": {},
   "outputs": [
    {
     "name": "stdout",
     "output_type": "stream",
     "text": [
      "{'a': 5.0, 'b': 10.0, 'c': 15.0}\n"
     ]
    }
   ],
   "source": [
    "my_dict = {'a': 10, 'b': 20, 'c': 30}\n",
    "divisor = 2\n",
    "\n",
    "for key in my_dict:\n",
    "    my_dict[key] /= divisor\n",
    "\n",
    "print(my_dict)\n"
   ]
  },
  {
   "cell_type": "code",
   "execution_count": null,
   "metadata": {},
   "outputs": [],
   "source": []
  }
 ],
 "metadata": {
  "kernelspec": {
   "display_name": "Python 3",
   "language": "python",
   "name": "python3"
  },
  "language_info": {
   "codemirror_mode": {
    "name": "ipython",
    "version": 3
   },
   "file_extension": ".py",
   "mimetype": "text/x-python",
   "name": "python",
   "nbconvert_exporter": "python",
   "pygments_lexer": "ipython3",
   "version": "3.6.8"
  },
  "toc": {
   "base_numbering": 1,
   "nav_menu": {},
   "number_sections": true,
   "sideBar": true,
   "skip_h1_title": false,
   "title_cell": "Table of Contents",
   "title_sidebar": "Contents",
   "toc_cell": false,
   "toc_position": {},
   "toc_section_display": true,
   "toc_window_display": false
  }
 },
 "nbformat": 4,
 "nbformat_minor": 2
}
